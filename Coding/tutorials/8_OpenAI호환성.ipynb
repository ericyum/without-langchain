{
 "cells": [
  {
   "cell_type": "markdown",
   "id": "84f7fcb6",
   "metadata": {},
   "source": [
    "### OpenAI QuickStart Example"
   ]
  },
  {
   "cell_type": "code",
   "execution_count": 4,
   "id": "37a04353",
   "metadata": {},
   "outputs": [
    {
     "name": "stdout",
     "output_type": "stream",
     "text": [
      "한밤중의 정원에서 반딧불이들이 춤추며, 신비로운 유니콘이 달빛 아래에서 아름다운 꽃들과 함께 잠자리에 들었다.\n"
     ]
    }
   ],
   "source": [
    "from openai import OpenAI\n",
    "\n",
    "# Initialize the OpenAI client\n",
    "# Make sure to set your OpenAI API key in the environment variable OPENAI_API_KEY\n",
    "client = OpenAI()\n",
    "\n",
    "response = client.chat.completions.create(\n",
    "    model=\"gpt-4o-mini\",\n",
    "    messages=[\n",
    "        {\n",
    "            \"role\": \"user\",\n",
    "            \"content\": \"유니콘에 대한 한 문장짜리 잠자리 이야기 작성해 주세요.\",\n",
    "        }\n",
    "    ],\n",
    ")\n",
    "\n",
    "print(response.choices[0].message.content)"
   ]
  },
  {
   "cell_type": "code",
   "execution_count": 5,
   "id": "3681d3ab",
   "metadata": {},
   "outputs": [
    {
     "data": {
      "text/plain": [
       "ChatCompletion(id='chatcmpl-C3YwGwVAeadVPzVbATGwUWquNYqgo', choices=[Choice(finish_reason='stop', index=0, logprobs=None, message=ChatCompletionMessage(content='한밤중의 정원에서 반딧불이들이 춤추며, 신비로운 유니콘이 달빛 아래에서 아름다운 꽃들과 함께 잠자리에 들었다.', refusal=None, role='assistant', annotations=[], audio=None, function_call=None, tool_calls=None))], created=1754965324, model='gpt-4o-mini-2024-07-18', object='chat.completion', service_tier='default', system_fingerprint='fp_62a23a81ef', usage=CompletionUsage(completion_tokens=40, prompt_tokens=24, total_tokens=64, completion_tokens_details=CompletionTokensDetails(accepted_prediction_tokens=0, audio_tokens=0, reasoning_tokens=0, rejected_prediction_tokens=0), prompt_tokens_details=PromptTokensDetails(audio_tokens=0, cached_tokens=0)))"
      ]
     },
     "execution_count": 5,
     "metadata": {},
     "output_type": "execute_result"
    }
   ],
   "source": [
    "response"
   ]
  },
  {
   "cell_type": "markdown",
   "id": "14a98e97",
   "metadata": {},
   "source": [
    "### OpenAI 호환성"
   ]
  },
  {
   "cell_type": "code",
   "execution_count": 6,
   "id": "42ec005b",
   "metadata": {},
   "outputs": [],
   "source": [
    "import os\n",
    "\n",
    "api_key = os.getenv(\"GOOGLE_API_KEY\")"
   ]
  },
  {
   "cell_type": "code",
   "execution_count": 7,
   "id": "72c8f135",
   "metadata": {},
   "outputs": [
    {
     "name": "stdout",
     "output_type": "stream",
     "text": [
      "ChatCompletionMessage(content='Okay, let\\'s break down how AI works in a way that\\'s hopefully easy to understand. Forget the sci-fi movies for a moment; real AI isn\\'t magic, it\\'s a lot of clever math and computer science.\\n\\n**The Core Idea: Learning from Experience**\\n\\nImagine AI as a very diligent student. This student doesn\\'t start knowing anything, but they\\'re incredibly good at learning from examples and finding patterns.\\n\\nHere\\'s the simplified process:\\n\\n1.  **Data (The Textbooks & Practice Problems):**\\n    *   AI needs *data*. Lots and lots of it. This data is like the textbooks, lecture notes, and practice problems the student uses.\\n    *   For example, if you want an AI to identify cats in pictures, you\\'d feed it millions of pictures, some with cats, some without, and tell it: \"This one has a cat,\" \"This one doesn\\'t.\" (This is called **labeled data**).\\n    *   The quality and quantity of this data are crucial. Bad data leads to bad AI.\\n\\n2.  **Algorithms (The Learning Strategies):**\\n    *   Algorithms are the \"learning strategies\" or \"rules\" the AI uses to make sense of the data. They are mathematical recipes that tell the computer how to process information, find relationships, and make decisions.\\n    *   Think of it like different ways a student might study:\\n        *   **Memorization:** Remembering specific examples.\\n        *   **Pattern Recognition:** Noticing that all cat pictures tend to have whiskers and pointy ears.\\n        *   **Trial and Error:** Trying different approaches and seeing what works best.\\n    *   There are many types of algorithms, but the goal is always to find patterns that allow the AI to make accurate predictions or decisions on *new* data it hasn\\'t seen before.\\n\\n3.  **Training (The Study Time):**\\n    *   This is where the AI \"learns.\" The algorithms are run on the massive dataset.\\n    *   During training, the AI tries to find the best way to map the input data (e.g., a picture) to the desired output (e.g., \"cat\" or \"no cat\").\\n    *   It\\'s an iterative process:\\n        *   The AI makes a prediction.\\n        *   It compares its prediction to the correct answer (if it\\'s labeled data).\\n        *   If it\\'s wrong, it adjusts its internal parameters (like fine-tuning its \"brain connections\") to try and be more accurate next time.\\n        *   This cycle repeats thousands or millions of times until the AI gets very good at the task.\\n\\n4.  **The Model (The Learned Knowledge):**\\n    *   After training, what you have is an \"AI model.\" This model isn\\'t the data itself, nor is it the algorithm in its raw form. It\\'s the *result* of the algorithm having learned from the data.\\n    *   Think of the model as the student\\'s accumulated knowledge and ability to apply it. It has learned the \"rules\" and \"patterns\" from the data and can now use them to solve new problems.\\n\\n5.  **Prediction/Inference (Applying the Knowledge):**\\n    *   Once the model is trained, you can give it *new, unseen data*.\\n    *   The model will then use its learned knowledge to make a prediction or perform a task.\\n    *   For example, you show the cat-identifying AI a brand new picture it\\'s never seen before. Based on the patterns it learned during training, it will tell you: \"This is a cat,\" or \"This is not a cat.\"\\n\\n---\\n\\n**Key Concepts and Types of AI:**\\n\\nMost of what people refer to as \"AI\" today falls under the umbrella of **Machine Learning (ML)**.\\n\\n*   **Machine Learning (ML):** The field of study that gives computers the ability to learn without being explicitly programmed.\\n    *   **Supervised Learning:** Learning from labeled data (like our cat example). Most common type.\\n    *   **Unsupervised Learning:** Finding patterns in unlabeled data (e.g., grouping similar customers together without being told what the groups are).\\n    *   **Reinforcement Learning:** Learning through trial and error, like training a dog with rewards and punishments (e.g., AI learning to play video games or chess by maximizing a score).\\n\\n*   **Deep Learning (DL):** A subfield of Machine Learning that uses **Neural Networks**.\\n    *   Neural Networks are inspired by the structure and function of the human brain, with layers of interconnected \"nodes\" (like neurons).\\n    *   \"Deep\" refers to having many layers. These deep networks are incredibly powerful at finding complex patterns in very large datasets, especially for things like images, video, and natural language.\\n\\n*   **Natural Language Processing (NLP):** Enables computers to understand, interpret, and generate human language (e.g., ChatGPT, voice assistants like Siri/Alexa, spam filters).\\n\\n*   **Computer Vision (CV):** Enables computers to \"see\" and interpret visual information from images and videos (e.g., facial recognition, self-driving cars, medical image analysis).\\n\\n---\\n\\n**In a Nutshell:**\\n\\nAI works by taking vast amounts of data, using clever mathematical algorithms to find patterns within that data during a \"training\" phase, and then using the \"learned patterns\" (the model) to make predictions or decisions on new, unseen data. It\\'s about statistical learning and pattern recognition, not magic or consciousness (at least, not yet!).', refusal=None, role='assistant', annotations=None, audio=None, function_call=None, tool_calls=None)\n"
     ]
    }
   ],
   "source": [
    "from openai import OpenAI\n",
    "\n",
    "client = OpenAI(\n",
    "    api_key=api_key, base_url=\"https://generativelanguage.googleapis.com/v1beta/openai/\"\n",
    ")\n",
    "\n",
    "response = client.chat.completions.create(\n",
    "    model=\"gemini-2.5-flash\",\n",
    "    messages=[\n",
    "        {\"role\": \"system\", \"content\": \"You are a helpful assistant.\"},\n",
    "        {\"role\": \"user\", \"content\": \"Explain to me how AI works\"},\n",
    "    ],\n",
    ")\n",
    "\n",
    "print(response.choices[0].message)"
   ]
  },
  {
   "cell_type": "code",
   "execution_count": 8,
   "id": "4fa4af57",
   "metadata": {},
   "outputs": [
    {
     "data": {
      "text/plain": [
       "ChatCompletion(id='RKaaaI2IF9eLmtkPj8vAiQQ', choices=[Choice(finish_reason='stop', index=0, logprobs=None, message=ChatCompletionMessage(content='Okay, let\\'s break down how AI works in a way that\\'s hopefully easy to understand. Forget the sci-fi movies for a moment; real AI isn\\'t magic, it\\'s a lot of clever math and computer science.\\n\\n**The Core Idea: Learning from Experience**\\n\\nImagine AI as a very diligent student. This student doesn\\'t start knowing anything, but they\\'re incredibly good at learning from examples and finding patterns.\\n\\nHere\\'s the simplified process:\\n\\n1.  **Data (The Textbooks & Practice Problems):**\\n    *   AI needs *data*. Lots and lots of it. This data is like the textbooks, lecture notes, and practice problems the student uses.\\n    *   For example, if you want an AI to identify cats in pictures, you\\'d feed it millions of pictures, some with cats, some without, and tell it: \"This one has a cat,\" \"This one doesn\\'t.\" (This is called **labeled data**).\\n    *   The quality and quantity of this data are crucial. Bad data leads to bad AI.\\n\\n2.  **Algorithms (The Learning Strategies):**\\n    *   Algorithms are the \"learning strategies\" or \"rules\" the AI uses to make sense of the data. They are mathematical recipes that tell the computer how to process information, find relationships, and make decisions.\\n    *   Think of it like different ways a student might study:\\n        *   **Memorization:** Remembering specific examples.\\n        *   **Pattern Recognition:** Noticing that all cat pictures tend to have whiskers and pointy ears.\\n        *   **Trial and Error:** Trying different approaches and seeing what works best.\\n    *   There are many types of algorithms, but the goal is always to find patterns that allow the AI to make accurate predictions or decisions on *new* data it hasn\\'t seen before.\\n\\n3.  **Training (The Study Time):**\\n    *   This is where the AI \"learns.\" The algorithms are run on the massive dataset.\\n    *   During training, the AI tries to find the best way to map the input data (e.g., a picture) to the desired output (e.g., \"cat\" or \"no cat\").\\n    *   It\\'s an iterative process:\\n        *   The AI makes a prediction.\\n        *   It compares its prediction to the correct answer (if it\\'s labeled data).\\n        *   If it\\'s wrong, it adjusts its internal parameters (like fine-tuning its \"brain connections\") to try and be more accurate next time.\\n        *   This cycle repeats thousands or millions of times until the AI gets very good at the task.\\n\\n4.  **The Model (The Learned Knowledge):**\\n    *   After training, what you have is an \"AI model.\" This model isn\\'t the data itself, nor is it the algorithm in its raw form. It\\'s the *result* of the algorithm having learned from the data.\\n    *   Think of the model as the student\\'s accumulated knowledge and ability to apply it. It has learned the \"rules\" and \"patterns\" from the data and can now use them to solve new problems.\\n\\n5.  **Prediction/Inference (Applying the Knowledge):**\\n    *   Once the model is trained, you can give it *new, unseen data*.\\n    *   The model will then use its learned knowledge to make a prediction or perform a task.\\n    *   For example, you show the cat-identifying AI a brand new picture it\\'s never seen before. Based on the patterns it learned during training, it will tell you: \"This is a cat,\" or \"This is not a cat.\"\\n\\n---\\n\\n**Key Concepts and Types of AI:**\\n\\nMost of what people refer to as \"AI\" today falls under the umbrella of **Machine Learning (ML)**.\\n\\n*   **Machine Learning (ML):** The field of study that gives computers the ability to learn without being explicitly programmed.\\n    *   **Supervised Learning:** Learning from labeled data (like our cat example). Most common type.\\n    *   **Unsupervised Learning:** Finding patterns in unlabeled data (e.g., grouping similar customers together without being told what the groups are).\\n    *   **Reinforcement Learning:** Learning through trial and error, like training a dog with rewards and punishments (e.g., AI learning to play video games or chess by maximizing a score).\\n\\n*   **Deep Learning (DL):** A subfield of Machine Learning that uses **Neural Networks**.\\n    *   Neural Networks are inspired by the structure and function of the human brain, with layers of interconnected \"nodes\" (like neurons).\\n    *   \"Deep\" refers to having many layers. These deep networks are incredibly powerful at finding complex patterns in very large datasets, especially for things like images, video, and natural language.\\n\\n*   **Natural Language Processing (NLP):** Enables computers to understand, interpret, and generate human language (e.g., ChatGPT, voice assistants like Siri/Alexa, spam filters).\\n\\n*   **Computer Vision (CV):** Enables computers to \"see\" and interpret visual information from images and videos (e.g., facial recognition, self-driving cars, medical image analysis).\\n\\n---\\n\\n**In a Nutshell:**\\n\\nAI works by taking vast amounts of data, using clever mathematical algorithms to find patterns within that data during a \"training\" phase, and then using the \"learned patterns\" (the model) to make predictions or decisions on new, unseen data. It\\'s about statistical learning and pattern recognition, not magic or consciousness (at least, not yet!).', refusal=None, role='assistant', annotations=None, audio=None, function_call=None, tool_calls=None))], created=1754965572, model='gemini-2.5-flash', object='chat.completion', service_tier=None, system_fingerprint=None, usage=CompletionUsage(completion_tokens=1196, prompt_tokens=14, total_tokens=2456, completion_tokens_details=None, prompt_tokens_details=None))"
      ]
     },
     "execution_count": 8,
     "metadata": {},
     "output_type": "execute_result"
    }
   ],
   "source": [
    "response"
   ]
  }
 ],
 "metadata": {
  "kernelspec": {
   "display_name": "without",
   "language": "python",
   "name": "python3"
  },
  "language_info": {
   "codemirror_mode": {
    "name": "ipython",
    "version": 3
   },
   "file_extension": ".py",
   "mimetype": "text/x-python",
   "name": "python",
   "nbconvert_exporter": "python",
   "pygments_lexer": "ipython3",
   "version": "3.11.13"
  }
 },
 "nbformat": 4,
 "nbformat_minor": 5
}
